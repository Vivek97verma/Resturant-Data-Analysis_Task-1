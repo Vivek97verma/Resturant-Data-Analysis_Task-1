{
 "cells": [
  {
   "cell_type": "markdown",
   "id": "3d7afd7b-5827-429e-815b-526bceadedb4",
   "metadata": {},
   "source": [
    " #                                                                   # LEVEL_1"
   ]
  },
  {
   "cell_type": "markdown",
   "id": "128a8688-4e4d-484d-a4d8-22529f914881",
   "metadata": {},
   "source": [
    "# Importing Neccessary liabraries"
   ]
  },
  {
   "cell_type": "code",
   "execution_count": 1,
   "id": "82c8e09b-d7fe-4c60-9268-1a8b3fdfd777",
   "metadata": {},
   "outputs": [],
   "source": [
    "import numpy as np\n",
    "# np is alias name for numpy\n",
    "import pandas as pd\n",
    "# pd is alias name for pandas\n",
    "import matplotlib.pyplot as plt\n",
    "# plt is alias name for matplotlib\n",
    "import seaborn as sns\n",
    "# sns is alias name for seaborn\n",
    "import warnings\n",
    "warnings.filterwarnings(\"ignore\")"
   ]
  },
  {
   "cell_type": "markdown",
   "id": "ba01fd0b-ca9f-491f-a368-7f875a8fbb4f",
   "metadata": {},
   "source": [
    "# Load the Data set"
   ]
  },
  {
   "cell_type": "code",
   "execution_count": 2,
   "id": "4449cb8a-3e7a-4d16-ab92-5b4deb430c42",
   "metadata": {},
   "outputs": [
    {
     "data": {
      "text/html": [
       "<div>\n",
       "<style scoped>\n",
       "    .dataframe tbody tr th:only-of-type {\n",
       "        vertical-align: middle;\n",
       "    }\n",
       "\n",
       "    .dataframe tbody tr th {\n",
       "        vertical-align: top;\n",
       "    }\n",
       "\n",
       "    .dataframe thead th {\n",
       "        text-align: right;\n",
       "    }\n",
       "</style>\n",
       "<table border=\"1\" class=\"dataframe\">\n",
       "  <thead>\n",
       "    <tr style=\"text-align: right;\">\n",
       "      <th></th>\n",
       "      <th>Restaurant ID</th>\n",
       "      <th>Restaurant Name</th>\n",
       "      <th>Country Code</th>\n",
       "      <th>City</th>\n",
       "      <th>Address</th>\n",
       "      <th>Locality</th>\n",
       "      <th>Locality Verbose</th>\n",
       "      <th>Longitude</th>\n",
       "      <th>Latitude</th>\n",
       "      <th>Cuisines</th>\n",
       "      <th>...</th>\n",
       "      <th>Currency</th>\n",
       "      <th>Has Table booking</th>\n",
       "      <th>Has Online delivery</th>\n",
       "      <th>Is delivering now</th>\n",
       "      <th>Switch to order menu</th>\n",
       "      <th>Price range</th>\n",
       "      <th>Aggregate rating</th>\n",
       "      <th>Rating color</th>\n",
       "      <th>Rating text</th>\n",
       "      <th>Votes</th>\n",
       "    </tr>\n",
       "  </thead>\n",
       "  <tbody>\n",
       "    <tr>\n",
       "      <th>0</th>\n",
       "      <td>6317637</td>\n",
       "      <td>Le Petit Souffle</td>\n",
       "      <td>162</td>\n",
       "      <td>Makati City</td>\n",
       "      <td>Third Floor, Century City Mall, Kalayaan Avenu...</td>\n",
       "      <td>Century City Mall, Poblacion, Makati City</td>\n",
       "      <td>Century City Mall, Poblacion, Makati City, Mak...</td>\n",
       "      <td>121.027535</td>\n",
       "      <td>14.565443</td>\n",
       "      <td>French, Japanese, Desserts</td>\n",
       "      <td>...</td>\n",
       "      <td>Botswana Pula(P)</td>\n",
       "      <td>Yes</td>\n",
       "      <td>No</td>\n",
       "      <td>No</td>\n",
       "      <td>No</td>\n",
       "      <td>3</td>\n",
       "      <td>4.8</td>\n",
       "      <td>Dark Green</td>\n",
       "      <td>Excellent</td>\n",
       "      <td>314</td>\n",
       "    </tr>\n",
       "    <tr>\n",
       "      <th>1</th>\n",
       "      <td>6304287</td>\n",
       "      <td>Izakaya Kikufuji</td>\n",
       "      <td>162</td>\n",
       "      <td>Makati City</td>\n",
       "      <td>Little Tokyo, 2277 Chino Roces Avenue, Legaspi...</td>\n",
       "      <td>Little Tokyo, Legaspi Village, Makati City</td>\n",
       "      <td>Little Tokyo, Legaspi Village, Makati City, Ma...</td>\n",
       "      <td>121.014101</td>\n",
       "      <td>14.553708</td>\n",
       "      <td>Japanese</td>\n",
       "      <td>...</td>\n",
       "      <td>Botswana Pula(P)</td>\n",
       "      <td>Yes</td>\n",
       "      <td>No</td>\n",
       "      <td>No</td>\n",
       "      <td>No</td>\n",
       "      <td>3</td>\n",
       "      <td>4.5</td>\n",
       "      <td>Dark Green</td>\n",
       "      <td>Excellent</td>\n",
       "      <td>591</td>\n",
       "    </tr>\n",
       "    <tr>\n",
       "      <th>2</th>\n",
       "      <td>6300002</td>\n",
       "      <td>Heat - Edsa Shangri-La</td>\n",
       "      <td>162</td>\n",
       "      <td>Mandaluyong City</td>\n",
       "      <td>Edsa Shangri-La, 1 Garden Way, Ortigas, Mandal...</td>\n",
       "      <td>Edsa Shangri-La, Ortigas, Mandaluyong City</td>\n",
       "      <td>Edsa Shangri-La, Ortigas, Mandaluyong City, Ma...</td>\n",
       "      <td>121.056831</td>\n",
       "      <td>14.581404</td>\n",
       "      <td>Seafood, Asian, Filipino, Indian</td>\n",
       "      <td>...</td>\n",
       "      <td>Botswana Pula(P)</td>\n",
       "      <td>Yes</td>\n",
       "      <td>No</td>\n",
       "      <td>No</td>\n",
       "      <td>No</td>\n",
       "      <td>4</td>\n",
       "      <td>4.4</td>\n",
       "      <td>Green</td>\n",
       "      <td>Very Good</td>\n",
       "      <td>270</td>\n",
       "    </tr>\n",
       "    <tr>\n",
       "      <th>3</th>\n",
       "      <td>6318506</td>\n",
       "      <td>Ooma</td>\n",
       "      <td>162</td>\n",
       "      <td>Mandaluyong City</td>\n",
       "      <td>Third Floor, Mega Fashion Hall, SM Megamall, O...</td>\n",
       "      <td>SM Megamall, Ortigas, Mandaluyong City</td>\n",
       "      <td>SM Megamall, Ortigas, Mandaluyong City, Mandal...</td>\n",
       "      <td>121.056475</td>\n",
       "      <td>14.585318</td>\n",
       "      <td>Japanese, Sushi</td>\n",
       "      <td>...</td>\n",
       "      <td>Botswana Pula(P)</td>\n",
       "      <td>No</td>\n",
       "      <td>No</td>\n",
       "      <td>No</td>\n",
       "      <td>No</td>\n",
       "      <td>4</td>\n",
       "      <td>4.9</td>\n",
       "      <td>Dark Green</td>\n",
       "      <td>Excellent</td>\n",
       "      <td>365</td>\n",
       "    </tr>\n",
       "    <tr>\n",
       "      <th>4</th>\n",
       "      <td>6314302</td>\n",
       "      <td>Sambo Kojin</td>\n",
       "      <td>162</td>\n",
       "      <td>Mandaluyong City</td>\n",
       "      <td>Third Floor, Mega Atrium, SM Megamall, Ortigas...</td>\n",
       "      <td>SM Megamall, Ortigas, Mandaluyong City</td>\n",
       "      <td>SM Megamall, Ortigas, Mandaluyong City, Mandal...</td>\n",
       "      <td>121.057508</td>\n",
       "      <td>14.584450</td>\n",
       "      <td>Japanese, Korean</td>\n",
       "      <td>...</td>\n",
       "      <td>Botswana Pula(P)</td>\n",
       "      <td>Yes</td>\n",
       "      <td>No</td>\n",
       "      <td>No</td>\n",
       "      <td>No</td>\n",
       "      <td>4</td>\n",
       "      <td>4.8</td>\n",
       "      <td>Dark Green</td>\n",
       "      <td>Excellent</td>\n",
       "      <td>229</td>\n",
       "    </tr>\n",
       "  </tbody>\n",
       "</table>\n",
       "<p>5 rows × 21 columns</p>\n",
       "</div>"
      ],
      "text/plain": [
       "   Restaurant ID         Restaurant Name  Country Code              City  \\\n",
       "0        6317637        Le Petit Souffle           162       Makati City   \n",
       "1        6304287        Izakaya Kikufuji           162       Makati City   \n",
       "2        6300002  Heat - Edsa Shangri-La           162  Mandaluyong City   \n",
       "3        6318506                    Ooma           162  Mandaluyong City   \n",
       "4        6314302             Sambo Kojin           162  Mandaluyong City   \n",
       "\n",
       "                                             Address  \\\n",
       "0  Third Floor, Century City Mall, Kalayaan Avenu...   \n",
       "1  Little Tokyo, 2277 Chino Roces Avenue, Legaspi...   \n",
       "2  Edsa Shangri-La, 1 Garden Way, Ortigas, Mandal...   \n",
       "3  Third Floor, Mega Fashion Hall, SM Megamall, O...   \n",
       "4  Third Floor, Mega Atrium, SM Megamall, Ortigas...   \n",
       "\n",
       "                                     Locality  \\\n",
       "0   Century City Mall, Poblacion, Makati City   \n",
       "1  Little Tokyo, Legaspi Village, Makati City   \n",
       "2  Edsa Shangri-La, Ortigas, Mandaluyong City   \n",
       "3      SM Megamall, Ortigas, Mandaluyong City   \n",
       "4      SM Megamall, Ortigas, Mandaluyong City   \n",
       "\n",
       "                                    Locality Verbose   Longitude   Latitude  \\\n",
       "0  Century City Mall, Poblacion, Makati City, Mak...  121.027535  14.565443   \n",
       "1  Little Tokyo, Legaspi Village, Makati City, Ma...  121.014101  14.553708   \n",
       "2  Edsa Shangri-La, Ortigas, Mandaluyong City, Ma...  121.056831  14.581404   \n",
       "3  SM Megamall, Ortigas, Mandaluyong City, Mandal...  121.056475  14.585318   \n",
       "4  SM Megamall, Ortigas, Mandaluyong City, Mandal...  121.057508  14.584450   \n",
       "\n",
       "                           Cuisines  ...          Currency Has Table booking  \\\n",
       "0        French, Japanese, Desserts  ...  Botswana Pula(P)               Yes   \n",
       "1                          Japanese  ...  Botswana Pula(P)               Yes   \n",
       "2  Seafood, Asian, Filipino, Indian  ...  Botswana Pula(P)               Yes   \n",
       "3                   Japanese, Sushi  ...  Botswana Pula(P)                No   \n",
       "4                  Japanese, Korean  ...  Botswana Pula(P)               Yes   \n",
       "\n",
       "  Has Online delivery Is delivering now Switch to order menu Price range  \\\n",
       "0                  No                No                   No           3   \n",
       "1                  No                No                   No           3   \n",
       "2                  No                No                   No           4   \n",
       "3                  No                No                   No           4   \n",
       "4                  No                No                   No           4   \n",
       "\n",
       "   Aggregate rating  Rating color Rating text Votes  \n",
       "0               4.8    Dark Green   Excellent   314  \n",
       "1               4.5    Dark Green   Excellent   591  \n",
       "2               4.4         Green   Very Good   270  \n",
       "3               4.9    Dark Green   Excellent   365  \n",
       "4               4.8    Dark Green   Excellent   229  \n",
       "\n",
       "[5 rows x 21 columns]"
      ]
     },
     "execution_count": 2,
     "metadata": {},
     "output_type": "execute_result"
    }
   ],
   "source": [
    "df=pd.read_csv('Dataset .csv')\n",
    "df.head()\n",
    "# df.head() return first 5 rows"
   ]
  },
  {
   "cell_type": "code",
   "execution_count": 3,
   "id": "82ae998a-0f53-4e43-8440-158f47bf6b15",
   "metadata": {},
   "outputs": [
    {
     "data": {
      "text/html": [
       "<div>\n",
       "<style scoped>\n",
       "    .dataframe tbody tr th:only-of-type {\n",
       "        vertical-align: middle;\n",
       "    }\n",
       "\n",
       "    .dataframe tbody tr th {\n",
       "        vertical-align: top;\n",
       "    }\n",
       "\n",
       "    .dataframe thead th {\n",
       "        text-align: right;\n",
       "    }\n",
       "</style>\n",
       "<table border=\"1\" class=\"dataframe\">\n",
       "  <thead>\n",
       "    <tr style=\"text-align: right;\">\n",
       "      <th></th>\n",
       "      <th>Restaurant ID</th>\n",
       "      <th>Restaurant Name</th>\n",
       "      <th>Country Code</th>\n",
       "      <th>City</th>\n",
       "      <th>Address</th>\n",
       "      <th>Locality</th>\n",
       "      <th>Locality Verbose</th>\n",
       "      <th>Longitude</th>\n",
       "      <th>Latitude</th>\n",
       "      <th>Cuisines</th>\n",
       "      <th>...</th>\n",
       "      <th>Currency</th>\n",
       "      <th>Has Table booking</th>\n",
       "      <th>Has Online delivery</th>\n",
       "      <th>Is delivering now</th>\n",
       "      <th>Switch to order menu</th>\n",
       "      <th>Price range</th>\n",
       "      <th>Aggregate rating</th>\n",
       "      <th>Rating color</th>\n",
       "      <th>Rating text</th>\n",
       "      <th>Votes</th>\n",
       "    </tr>\n",
       "  </thead>\n",
       "  <tbody>\n",
       "    <tr>\n",
       "      <th>9546</th>\n",
       "      <td>5915730</td>\n",
       "      <td>Naml۱ Gurme</td>\n",
       "      <td>208</td>\n",
       "      <td>��stanbul</td>\n",
       "      <td>Kemanke�� Karamustafa Pa��a Mahallesi, R۱ht۱m ...</td>\n",
       "      <td>Karak�_y</td>\n",
       "      <td>Karak�_y, ��stanbul</td>\n",
       "      <td>28.977392</td>\n",
       "      <td>41.022793</td>\n",
       "      <td>Turkish</td>\n",
       "      <td>...</td>\n",
       "      <td>Turkish Lira(TL)</td>\n",
       "      <td>No</td>\n",
       "      <td>No</td>\n",
       "      <td>No</td>\n",
       "      <td>No</td>\n",
       "      <td>3</td>\n",
       "      <td>4.1</td>\n",
       "      <td>Green</td>\n",
       "      <td>Very Good</td>\n",
       "      <td>788</td>\n",
       "    </tr>\n",
       "    <tr>\n",
       "      <th>9547</th>\n",
       "      <td>5908749</td>\n",
       "      <td>Ceviz A��ac۱</td>\n",
       "      <td>208</td>\n",
       "      <td>��stanbul</td>\n",
       "      <td>Ko��uyolu Mahallesi, Muhittin ��st�_nda�� Cadd...</td>\n",
       "      <td>Ko��uyolu</td>\n",
       "      <td>Ko��uyolu, ��stanbul</td>\n",
       "      <td>29.041297</td>\n",
       "      <td>41.009847</td>\n",
       "      <td>World Cuisine, Patisserie, Cafe</td>\n",
       "      <td>...</td>\n",
       "      <td>Turkish Lira(TL)</td>\n",
       "      <td>No</td>\n",
       "      <td>No</td>\n",
       "      <td>No</td>\n",
       "      <td>No</td>\n",
       "      <td>3</td>\n",
       "      <td>4.2</td>\n",
       "      <td>Green</td>\n",
       "      <td>Very Good</td>\n",
       "      <td>1034</td>\n",
       "    </tr>\n",
       "    <tr>\n",
       "      <th>9548</th>\n",
       "      <td>5915807</td>\n",
       "      <td>Huqqa</td>\n",
       "      <td>208</td>\n",
       "      <td>��stanbul</td>\n",
       "      <td>Kuru�_e��me Mahallesi, Muallim Naci Caddesi, N...</td>\n",
       "      <td>Kuru�_e��me</td>\n",
       "      <td>Kuru�_e��me, ��stanbul</td>\n",
       "      <td>29.034640</td>\n",
       "      <td>41.055817</td>\n",
       "      <td>Italian, World Cuisine</td>\n",
       "      <td>...</td>\n",
       "      <td>Turkish Lira(TL)</td>\n",
       "      <td>No</td>\n",
       "      <td>No</td>\n",
       "      <td>No</td>\n",
       "      <td>No</td>\n",
       "      <td>4</td>\n",
       "      <td>3.7</td>\n",
       "      <td>Yellow</td>\n",
       "      <td>Good</td>\n",
       "      <td>661</td>\n",
       "    </tr>\n",
       "    <tr>\n",
       "      <th>9549</th>\n",
       "      <td>5916112</td>\n",
       "      <td>A���k Kahve</td>\n",
       "      <td>208</td>\n",
       "      <td>��stanbul</td>\n",
       "      <td>Kuru�_e��me Mahallesi, Muallim Naci Caddesi, N...</td>\n",
       "      <td>Kuru�_e��me</td>\n",
       "      <td>Kuru�_e��me, ��stanbul</td>\n",
       "      <td>29.036019</td>\n",
       "      <td>41.057979</td>\n",
       "      <td>Restaurant Cafe</td>\n",
       "      <td>...</td>\n",
       "      <td>Turkish Lira(TL)</td>\n",
       "      <td>No</td>\n",
       "      <td>No</td>\n",
       "      <td>No</td>\n",
       "      <td>No</td>\n",
       "      <td>4</td>\n",
       "      <td>4.0</td>\n",
       "      <td>Green</td>\n",
       "      <td>Very Good</td>\n",
       "      <td>901</td>\n",
       "    </tr>\n",
       "    <tr>\n",
       "      <th>9550</th>\n",
       "      <td>5927402</td>\n",
       "      <td>Walter's Coffee Roastery</td>\n",
       "      <td>208</td>\n",
       "      <td>��stanbul</td>\n",
       "      <td>Cafea��a Mahallesi, Bademalt۱ Sokak, No 21/B, ...</td>\n",
       "      <td>Moda</td>\n",
       "      <td>Moda, ��stanbul</td>\n",
       "      <td>29.026016</td>\n",
       "      <td>40.984776</td>\n",
       "      <td>Cafe</td>\n",
       "      <td>...</td>\n",
       "      <td>Turkish Lira(TL)</td>\n",
       "      <td>No</td>\n",
       "      <td>No</td>\n",
       "      <td>No</td>\n",
       "      <td>No</td>\n",
       "      <td>2</td>\n",
       "      <td>4.0</td>\n",
       "      <td>Green</td>\n",
       "      <td>Very Good</td>\n",
       "      <td>591</td>\n",
       "    </tr>\n",
       "  </tbody>\n",
       "</table>\n",
       "<p>5 rows × 21 columns</p>\n",
       "</div>"
      ],
      "text/plain": [
       "      Restaurant ID           Restaurant Name  Country Code       City  \\\n",
       "9546        5915730               Naml۱ Gurme           208  ��stanbul   \n",
       "9547        5908749              Ceviz A��ac۱           208  ��stanbul   \n",
       "9548        5915807                     Huqqa           208  ��stanbul   \n",
       "9549        5916112               A���k Kahve           208  ��stanbul   \n",
       "9550        5927402  Walter's Coffee Roastery           208  ��stanbul   \n",
       "\n",
       "                                                Address     Locality  \\\n",
       "9546  Kemanke�� Karamustafa Pa��a Mahallesi, R۱ht۱m ...     Karak�_y   \n",
       "9547  Ko��uyolu Mahallesi, Muhittin ��st�_nda�� Cadd...    Ko��uyolu   \n",
       "9548  Kuru�_e��me Mahallesi, Muallim Naci Caddesi, N...  Kuru�_e��me   \n",
       "9549  Kuru�_e��me Mahallesi, Muallim Naci Caddesi, N...  Kuru�_e��me   \n",
       "9550  Cafea��a Mahallesi, Bademalt۱ Sokak, No 21/B, ...         Moda   \n",
       "\n",
       "            Locality Verbose  Longitude   Latitude  \\\n",
       "9546     Karak�_y, ��stanbul  28.977392  41.022793   \n",
       "9547    Ko��uyolu, ��stanbul  29.041297  41.009847   \n",
       "9548  Kuru�_e��me, ��stanbul  29.034640  41.055817   \n",
       "9549  Kuru�_e��me, ��stanbul  29.036019  41.057979   \n",
       "9550         Moda, ��stanbul  29.026016  40.984776   \n",
       "\n",
       "                             Cuisines  ...          Currency  \\\n",
       "9546                          Turkish  ...  Turkish Lira(TL)   \n",
       "9547  World Cuisine, Patisserie, Cafe  ...  Turkish Lira(TL)   \n",
       "9548           Italian, World Cuisine  ...  Turkish Lira(TL)   \n",
       "9549                  Restaurant Cafe  ...  Turkish Lira(TL)   \n",
       "9550                             Cafe  ...  Turkish Lira(TL)   \n",
       "\n",
       "     Has Table booking Has Online delivery Is delivering now  \\\n",
       "9546                No                  No                No   \n",
       "9547                No                  No                No   \n",
       "9548                No                  No                No   \n",
       "9549                No                  No                No   \n",
       "9550                No                  No                No   \n",
       "\n",
       "     Switch to order menu Price range  Aggregate rating  Rating color  \\\n",
       "9546                   No           3               4.1         Green   \n",
       "9547                   No           3               4.2         Green   \n",
       "9548                   No           4               3.7        Yellow   \n",
       "9549                   No           4               4.0         Green   \n",
       "9550                   No           2               4.0         Green   \n",
       "\n",
       "     Rating text Votes  \n",
       "9546   Very Good   788  \n",
       "9547   Very Good  1034  \n",
       "9548        Good   661  \n",
       "9549   Very Good   901  \n",
       "9550   Very Good   591  \n",
       "\n",
       "[5 rows x 21 columns]"
      ]
     },
     "execution_count": 3,
     "metadata": {},
     "output_type": "execute_result"
    }
   ],
   "source": [
    "df.tail()\n",
    "\n",
    "# Return last 5 rows"
   ]
  },
  {
   "cell_type": "markdown",
   "id": "b582190b-7ce1-4d41-bf4e-ada6720a3a7e",
   "metadata": {},
   "source": [
    "# Fetch the Features name "
   ]
  },
  {
   "cell_type": "code",
   "execution_count": 4,
   "id": "a0174cbf-fa2c-42e0-b8a4-68936a2a48b3",
   "metadata": {},
   "outputs": [
    {
     "data": {
      "text/plain": [
       "Index(['Restaurant ID', 'Restaurant Name', 'Country Code', 'City', 'Address',\n",
       "       'Locality', 'Locality Verbose', 'Longitude', 'Latitude', 'Cuisines',\n",
       "       'Average Cost for two', 'Currency', 'Has Table booking',\n",
       "       'Has Online delivery', 'Is delivering now', 'Switch to order menu',\n",
       "       'Price range', 'Aggregate rating', 'Rating color', 'Rating text',\n",
       "       'Votes'],\n",
       "      dtype='object')"
      ]
     },
     "execution_count": 4,
     "metadata": {},
     "output_type": "execute_result"
    }
   ],
   "source": [
    "df.columns"
   ]
  },
  {
   "cell_type": "markdown",
   "id": "c8892733-1091-49f8-8c54-65307038863d",
   "metadata": {},
   "source": [
    "# Check the shape of Dataset"
   ]
  },
  {
   "cell_type": "code",
   "execution_count": 5,
   "id": "42751dea-0733-4a31-8383-9ad211d66d93",
   "metadata": {},
   "outputs": [
    {
     "data": {
      "text/plain": [
       "(9551, 21)"
      ]
     },
     "execution_count": 5,
     "metadata": {},
     "output_type": "execute_result"
    }
   ],
   "source": [
    "df.shape"
   ]
  },
  {
   "cell_type": "markdown",
   "id": "ac085122-b964-4886-959a-e90ef621167a",
   "metadata": {},
   "source": [
    "#### Number of Rows = 9551\n",
    "#### Number of columns = 21"
   ]
  },
  {
   "cell_type": "markdown",
   "id": "2a444872-316e-49a6-849a-6b9be18a3002",
   "metadata": {},
   "source": [
    "# Data Preprocessing"
   ]
  },
  {
   "cell_type": "markdown",
   "id": "c736db92-d1fb-4964-a52e-fc30e23a2803",
   "metadata": {},
   "source": [
    "## Handling Null value"
   ]
  },
  {
   "cell_type": "code",
   "execution_count": 8,
   "id": "5c2864cc-3eaf-4d75-aad0-6b68db04aabc",
   "metadata": {},
   "outputs": [
    {
     "data": {
      "text/plain": [
       "Restaurant ID           0\n",
       "Restaurant Name         0\n",
       "Country Code            0\n",
       "City                    0\n",
       "Address                 0\n",
       "Locality                0\n",
       "Locality Verbose        0\n",
       "Longitude               0\n",
       "Latitude                0\n",
       "Cuisines                9\n",
       "Average Cost for two    0\n",
       "Currency                0\n",
       "Has Table booking       0\n",
       "Has Online delivery     0\n",
       "Is delivering now       0\n",
       "Switch to order menu    0\n",
       "Price range             0\n",
       "Aggregate rating        0\n",
       "Rating color            0\n",
       "Rating text             0\n",
       "Votes                   0\n",
       "dtype: int64"
      ]
     },
     "execution_count": 8,
     "metadata": {},
     "output_type": "execute_result"
    }
   ],
   "source": [
    "df.isnull().sum()"
   ]
  },
  {
   "cell_type": "markdown",
   "id": "dace7c69-71a6-44d3-a61c-0910f3fa621b",
   "metadata": {},
   "source": [
    "#### Null value = 0\n",
    "#### doesn't contain any null value"
   ]
  },
  {
   "cell_type": "markdown",
   "id": "2e368a81-7452-4643-9582-de83a82e6436",
   "metadata": {},
   "source": [
    "## Check the Duplicate values"
   ]
  },
  {
   "cell_type": "code",
   "execution_count": 9,
   "id": "5c64c576-a1cf-41b3-ba61-50d4d8cee9c5",
   "metadata": {},
   "outputs": [
    {
     "data": {
      "text/plain": [
       "0"
      ]
     },
     "execution_count": 9,
     "metadata": {},
     "output_type": "execute_result"
    }
   ],
   "source": [
    "df.duplicated().sum()"
   ]
  },
  {
   "cell_type": "markdown",
   "id": "b9e4487c-2b19-4fad-8570-68e952ca9a64",
   "metadata": {},
   "source": [
    "#### Dataset doesn't have any duplicate value"
   ]
  },
  {
   "cell_type": "markdown",
   "id": "b7eaf0d3-5198-4cd5-8121-aa06a0bbf261",
   "metadata": {},
   "source": [
    "# Fetch the Data type of all the columns"
   ]
  },
  {
   "cell_type": "code",
   "execution_count": 10,
   "id": "40ec8260-6d8e-4ed3-9abd-0129aaa6f378",
   "metadata": {},
   "outputs": [
    {
     "data": {
      "text/plain": [
       "Restaurant ID             int64\n",
       "Restaurant Name          object\n",
       "Country Code              int64\n",
       "City                     object\n",
       "Address                  object\n",
       "Locality                 object\n",
       "Locality Verbose         object\n",
       "Longitude               float64\n",
       "Latitude                float64\n",
       "Cuisines                 object\n",
       "Average Cost for two      int64\n",
       "Currency                 object\n",
       "Has Table booking        object\n",
       "Has Online delivery      object\n",
       "Is delivering now        object\n",
       "Switch to order menu     object\n",
       "Price range               int64\n",
       "Aggregate rating        float64\n",
       "Rating color             object\n",
       "Rating text              object\n",
       "Votes                     int64\n",
       "dtype: object"
      ]
     },
     "execution_count": 10,
     "metadata": {},
     "output_type": "execute_result"
    }
   ],
   "source": [
    "df.dtypes"
   ]
  },
  {
   "cell_type": "code",
   "execution_count": 11,
   "id": "20b8e4c3-f342-4c1d-ae47-7d393430ae03",
   "metadata": {},
   "outputs": [
    {
     "name": "stdout",
     "output_type": "stream",
     "text": [
      "Categorical_column\n",
      "Index(['Restaurant Name', 'City', 'Address', 'Locality', 'Locality Verbose',\n",
      "       'Cuisines', 'Currency', 'Has Table booking', 'Has Online delivery',\n",
      "       'Is delivering now', 'Switch to order menu', 'Rating color',\n",
      "       'Rating text'],\n",
      "      dtype='object')\n",
      "Numerical_column\n",
      "Index(['Restaurant ID', 'Country Code', 'Longitude', 'Latitude',\n",
      "       'Average Cost for two', 'Price range', 'Aggregate rating', 'Votes'],\n",
      "      dtype='object')\n"
     ]
    }
   ],
   "source": [
    "cat_col=df.select_dtypes(include='object').columns\n",
    "print(f'Categorical_column\\n{cat_col}')\n",
    "num_col=df.select_dtypes(exclude='object').columns\n",
    "print(f'Numerical_column\\n{num_col}')"
   ]
  },
  {
   "cell_type": "code",
   "execution_count": 12,
   "id": "d21a96ac-308e-4367-a5ba-d829d19e0e6c",
   "metadata": {},
   "outputs": [
    {
     "name": "stdout",
     "output_type": "stream",
     "text": [
      "Total number of categorical column\n",
      "13\n",
      "Total number of numerical column\n",
      "8\n"
     ]
    }
   ],
   "source": [
    "print('Total number of categorical column')\n",
    "print(cat_col.value_counts().sum())\n",
    "print('Total number of numerical column')\n",
    "print(num_col.value_counts().sum())"
   ]
  },
  {
   "cell_type": "markdown",
   "id": "4bd6abb4-af0f-4e58-a74b-8fc81b17329c",
   "metadata": {},
   "source": [
    "# Fetch the statistical behaviour of numerical value"
   ]
  },
  {
   "cell_type": "code",
   "execution_count": 13,
   "id": "8ec3a79d-0386-4b86-a35f-e65ee2ecdc7f",
   "metadata": {},
   "outputs": [
    {
     "data": {
      "text/html": [
       "<div>\n",
       "<style scoped>\n",
       "    .dataframe tbody tr th:only-of-type {\n",
       "        vertical-align: middle;\n",
       "    }\n",
       "\n",
       "    .dataframe tbody tr th {\n",
       "        vertical-align: top;\n",
       "    }\n",
       "\n",
       "    .dataframe thead th {\n",
       "        text-align: right;\n",
       "    }\n",
       "</style>\n",
       "<table border=\"1\" class=\"dataframe\">\n",
       "  <thead>\n",
       "    <tr style=\"text-align: right;\">\n",
       "      <th></th>\n",
       "      <th>count</th>\n",
       "      <th>mean</th>\n",
       "      <th>std</th>\n",
       "      <th>min</th>\n",
       "      <th>25%</th>\n",
       "      <th>50%</th>\n",
       "      <th>75%</th>\n",
       "      <th>max</th>\n",
       "    </tr>\n",
       "  </thead>\n",
       "  <tbody>\n",
       "    <tr>\n",
       "      <th>Restaurant ID</th>\n",
       "      <td>9551.0</td>\n",
       "      <td>9.051128e+06</td>\n",
       "      <td>8.791521e+06</td>\n",
       "      <td>53.000000</td>\n",
       "      <td>301962.500000</td>\n",
       "      <td>6.004089e+06</td>\n",
       "      <td>1.835229e+07</td>\n",
       "      <td>1.850065e+07</td>\n",
       "    </tr>\n",
       "    <tr>\n",
       "      <th>Country Code</th>\n",
       "      <td>9551.0</td>\n",
       "      <td>1.836562e+01</td>\n",
       "      <td>5.675055e+01</td>\n",
       "      <td>1.000000</td>\n",
       "      <td>1.000000</td>\n",
       "      <td>1.000000e+00</td>\n",
       "      <td>1.000000e+00</td>\n",
       "      <td>2.160000e+02</td>\n",
       "    </tr>\n",
       "    <tr>\n",
       "      <th>Longitude</th>\n",
       "      <td>9551.0</td>\n",
       "      <td>6.412657e+01</td>\n",
       "      <td>4.146706e+01</td>\n",
       "      <td>-157.948486</td>\n",
       "      <td>77.081343</td>\n",
       "      <td>7.719196e+01</td>\n",
       "      <td>7.728201e+01</td>\n",
       "      <td>1.748321e+02</td>\n",
       "    </tr>\n",
       "    <tr>\n",
       "      <th>Latitude</th>\n",
       "      <td>9551.0</td>\n",
       "      <td>2.585438e+01</td>\n",
       "      <td>1.100794e+01</td>\n",
       "      <td>-41.330428</td>\n",
       "      <td>28.478713</td>\n",
       "      <td>2.857047e+01</td>\n",
       "      <td>2.864276e+01</td>\n",
       "      <td>5.597698e+01</td>\n",
       "    </tr>\n",
       "    <tr>\n",
       "      <th>Average Cost for two</th>\n",
       "      <td>9551.0</td>\n",
       "      <td>1.199211e+03</td>\n",
       "      <td>1.612118e+04</td>\n",
       "      <td>0.000000</td>\n",
       "      <td>250.000000</td>\n",
       "      <td>4.000000e+02</td>\n",
       "      <td>7.000000e+02</td>\n",
       "      <td>8.000000e+05</td>\n",
       "    </tr>\n",
       "    <tr>\n",
       "      <th>Price range</th>\n",
       "      <td>9551.0</td>\n",
       "      <td>1.804837e+00</td>\n",
       "      <td>9.056088e-01</td>\n",
       "      <td>1.000000</td>\n",
       "      <td>1.000000</td>\n",
       "      <td>2.000000e+00</td>\n",
       "      <td>2.000000e+00</td>\n",
       "      <td>4.000000e+00</td>\n",
       "    </tr>\n",
       "    <tr>\n",
       "      <th>Aggregate rating</th>\n",
       "      <td>9551.0</td>\n",
       "      <td>2.666370e+00</td>\n",
       "      <td>1.516378e+00</td>\n",
       "      <td>0.000000</td>\n",
       "      <td>2.500000</td>\n",
       "      <td>3.200000e+00</td>\n",
       "      <td>3.700000e+00</td>\n",
       "      <td>4.900000e+00</td>\n",
       "    </tr>\n",
       "    <tr>\n",
       "      <th>Votes</th>\n",
       "      <td>9551.0</td>\n",
       "      <td>1.569097e+02</td>\n",
       "      <td>4.301691e+02</td>\n",
       "      <td>0.000000</td>\n",
       "      <td>5.000000</td>\n",
       "      <td>3.100000e+01</td>\n",
       "      <td>1.310000e+02</td>\n",
       "      <td>1.093400e+04</td>\n",
       "    </tr>\n",
       "  </tbody>\n",
       "</table>\n",
       "</div>"
      ],
      "text/plain": [
       "                       count          mean           std         min  \\\n",
       "Restaurant ID         9551.0  9.051128e+06  8.791521e+06   53.000000   \n",
       "Country Code          9551.0  1.836562e+01  5.675055e+01    1.000000   \n",
       "Longitude             9551.0  6.412657e+01  4.146706e+01 -157.948486   \n",
       "Latitude              9551.0  2.585438e+01  1.100794e+01  -41.330428   \n",
       "Average Cost for two  9551.0  1.199211e+03  1.612118e+04    0.000000   \n",
       "Price range           9551.0  1.804837e+00  9.056088e-01    1.000000   \n",
       "Aggregate rating      9551.0  2.666370e+00  1.516378e+00    0.000000   \n",
       "Votes                 9551.0  1.569097e+02  4.301691e+02    0.000000   \n",
       "\n",
       "                                25%           50%           75%           max  \n",
       "Restaurant ID         301962.500000  6.004089e+06  1.835229e+07  1.850065e+07  \n",
       "Country Code               1.000000  1.000000e+00  1.000000e+00  2.160000e+02  \n",
       "Longitude                 77.081343  7.719196e+01  7.728201e+01  1.748321e+02  \n",
       "Latitude                  28.478713  2.857047e+01  2.864276e+01  5.597698e+01  \n",
       "Average Cost for two     250.000000  4.000000e+02  7.000000e+02  8.000000e+05  \n",
       "Price range                1.000000  2.000000e+00  2.000000e+00  4.000000e+00  \n",
       "Aggregate rating           2.500000  3.200000e+00  3.700000e+00  4.900000e+00  \n",
       "Votes                      5.000000  3.100000e+01  1.310000e+02  1.093400e+04  "
      ]
     },
     "execution_count": 13,
     "metadata": {},
     "output_type": "execute_result"
    }
   ],
   "source": [
    "df.describe().T"
   ]
  },
  {
   "cell_type": "markdown",
   "id": "b425ce60-7d1c-48e7-b040-c7e646a61563",
   "metadata": {},
   "source": [
    "# concise summary of a DataFrame"
   ]
  },
  {
   "cell_type": "code",
   "execution_count": 14,
   "id": "fae62152-9a1c-4748-a7c0-2b94eca414b7",
   "metadata": {},
   "outputs": [
    {
     "name": "stdout",
     "output_type": "stream",
     "text": [
      "<class 'pandas.core.frame.DataFrame'>\n",
      "RangeIndex: 9551 entries, 0 to 9550\n",
      "Data columns (total 21 columns):\n",
      " #   Column                Non-Null Count  Dtype  \n",
      "---  ------                --------------  -----  \n",
      " 0   Restaurant ID         9551 non-null   int64  \n",
      " 1   Restaurant Name       9551 non-null   object \n",
      " 2   Country Code          9551 non-null   int64  \n",
      " 3   City                  9551 non-null   object \n",
      " 4   Address               9551 non-null   object \n",
      " 5   Locality              9551 non-null   object \n",
      " 6   Locality Verbose      9551 non-null   object \n",
      " 7   Longitude             9551 non-null   float64\n",
      " 8   Latitude              9551 non-null   float64\n",
      " 9   Cuisines              9542 non-null   object \n",
      " 10  Average Cost for two  9551 non-null   int64  \n",
      " 11  Currency              9551 non-null   object \n",
      " 12  Has Table booking     9551 non-null   object \n",
      " 13  Has Online delivery   9551 non-null   object \n",
      " 14  Is delivering now     9551 non-null   object \n",
      " 15  Switch to order menu  9551 non-null   object \n",
      " 16  Price range           9551 non-null   int64  \n",
      " 17  Aggregate rating      9551 non-null   float64\n",
      " 18  Rating color          9551 non-null   object \n",
      " 19  Rating text           9551 non-null   object \n",
      " 20  Votes                 9551 non-null   int64  \n",
      "dtypes: float64(3), int64(5), object(13)\n",
      "memory usage: 1.5+ MB\n"
     ]
    }
   ],
   "source": [
    "df.info()"
   ]
  },
  {
   "cell_type": "markdown",
   "id": "28f5fcd4-19f6-438b-b0de-d8316410516d",
   "metadata": {},
   "source": [
    "# EDA"
   ]
  },
  {
   "cell_type": "markdown",
   "id": "da9466f3-2ea6-47c7-8b93-fdf51542a61a",
   "metadata": {},
   "source": [
    "## Level 1 : Task 1"
   ]
  },
  {
   "cell_type": "markdown",
   "id": "130f423e-bb25-47ec-9810-12441c5ac95b",
   "metadata": {},
   "source": [
    "### Task-Top Cuisines"
   ]
  },
  {
   "cell_type": "markdown",
   "id": "cbee2357-429a-4a06-815c-44ae7fc816b0",
   "metadata": {},
   "source": [
    "# Top three most common cuisines in the dataset."
   ]
  },
  {
   "cell_type": "code",
   "execution_count": 15,
   "id": "fa24c4fd-7c01-414d-abbe-c015c637f92d",
   "metadata": {},
   "outputs": [
    {
     "name": "stdout",
     "output_type": "stream",
     "text": [
      "Top 3 most Common Cuisines\n",
      "North Indian             936\n",
      "North Indian, Chinese    511\n",
      "Chinese                  354\n",
      "Name: count, dtype: int64\n"
     ]
    }
   ],
   "source": [
    "top_cuisines=df['Cuisines'].value_counts().head(3)\n",
    "print('Top 3 most Common',top_cuisines)"
   ]
  },
  {
   "cell_type": "code",
   "execution_count": 17,
   "id": "93588501-d25c-44ac-9ace-d25de29dd3f2",
   "metadata": {},
   "outputs": [
    {
     "data": {
      "image/png": "[encoded data removed]",
      "text/plain": [
       "<Figure size 1000x500 with 1 Axes>"
      ]
     },
     "metadata": {},
     "output_type": "display_data"
    }
   ],
   "source": [
    "plt.figure(figsize=(10,5))\n",
    "bars=plt.bar(top_cuisines.index,top_cuisines,color=['red','green','blue'],label='top_cuisines')\n",
    "plt.title('Top Three most common cuisines',fontsize=15)\n",
    "plt.legend()\n",
    "plt.xlabel('\\n cuisines')\n",
    "for bar in bars:\n",
    "    yval = bar.get_height()\n",
    "    plt.text(bar.get_x() + bar.get_width()/2, yval + 5, yval, ha='center', fontsize=12)\n",
    "plt.show()\n"
   ]
  },
  {
   "cell_type": "markdown",
   "id": "62727c9d-ee93-44b4-af86-b0708bd49d11",
   "metadata": {},
   "source": [
    "# Percentage of restaurants that serve each of the top cuisines."
   ]
  },
  {
   "cell_type": "code",
   "execution_count": 127,
   "id": "006d38a3-9486-4740-87ae-7cbdc4ff3aae",
   "metadata": {},
   "outputs": [
    {
     "name": "stdout",
     "output_type": "stream",
     "text": [
      "15\n",
      "Cuisines\n",
      "North Indian             62.400000\n",
      "North Indian, Chinese    34.066667\n",
      "Chinese                  23.600000\n",
      "Name: count, dtype: float64\n"
     ]
    }
   ],
   "source": [
    "# total number of resturant \n",
    "restaurant_count=len('Restaurant Name')\n",
    "print(restaurant_count)\n",
    "top_cuisines_restaurant_percentage=(top_cuisines / restaurant_count)\n",
    "print(top_cuisines_restaurant_percentage)"
   ]
  },
  {
   "cell_type": "code",
   "execution_count": 218,
   "id": "3d6110f1-7597-4986-8739-172b6fe71a6a",
   "metadata": {},
   "outputs": [
    {
     "data": {
      "image/png": "[encoded data removed]",
      "text/plain": [
       "<Figure size 1000x500 with 1 Axes>"
      ]
     },
     "metadata": {},
     "output_type": "display_data"
    }
   ],
   "source": [
    "labels = [f'{cuisine} ({percentage:.1f}%)' for cuisine, percentage in zip(top_cuisines.index, top_cuisines_restaurant_percentage)]\n",
    "\n",
    "plt.figure(figsize=(10,5))\n",
    "plt.pie(top_cuisines_restaurant_percentage,explode=[0,0.1,0],\n",
    "        labels=labels, colors=['cyan','yellow','lightgreen'])\n",
    "plt.title('Restaurants that serve each of the top cuisines')\n",
    "plt.legend(bbox_to_anchor=(1,1))\n",
    "plt.show()"
   ]
  },
  {
   "cell_type": "markdown",
   "id": "985eb70e-d173-4f94-a69f-89bce943bee7",
   "metadata": {},
   "source": [
    "# Task 2"
   ]
  },
  {
   "cell_type": "markdown",
   "id": "3a30da72-a160-4e00-ada5-491d35214505",
   "metadata": {},
   "source": [
    "# Task: City Analysis"
   ]
  },
  {
   "cell_type": "markdown",
   "id": "bcbd4e53-fd99-4197-85bd-dcd04b969331",
   "metadata": {},
   "source": [
    "# Identify the city with the highest number of restaurants in the dataset."
   ]
  },
  {
   "cell_type": "code",
   "execution_count": 243,
   "id": "6ac8ea53-a0b9-4fdd-934d-4763a6d878b1",
   "metadata": {},
   "outputs": [
    {
     "data": {
      "text/plain": [
       "City\n",
       "New Delhi           5473\n",
       "Gurgaon             1118\n",
       "Noida               1080\n",
       "Faridabad            251\n",
       "Ghaziabad             25\n",
       "                    ... \n",
       "Panchkula              1\n",
       "Mc Millan              1\n",
       "Mayfield               1\n",
       "Macedon                1\n",
       "Vineland Station       1\n",
       "Name: count, Length: 141, dtype: int64"
      ]
     },
     "execution_count": 243,
     "metadata": {},
     "output_type": "execute_result"
    }
   ],
   "source": [
    "Restaurant_count_citywise=df['City'].value_counts()\n",
    "Restaurant_count_citywise"
   ]
  },
  {
   "cell_type": "code",
   "execution_count": 251,
   "id": "cabc4a61-e28c-4a5d-96b1-ca4b2155e86f",
   "metadata": {},
   "outputs": [
    {
     "name": "stdout",
     "output_type": "stream",
     "text": [
      "The city with the highest number of restaurants is New Delhi with 5473 restaurants.\n"
     ]
    }
   ],
   "source": [
    "# Identify the city with the highest number of restaurants\n",
    "city_with_most_restaurants = Restaurant_count_citywise.idxmax()\n",
    "number_of_restaurants = Restaurant_count_citywise.max()\n",
    "print(f'The city with the highest number of restaurants is {city_with_most_restaurants} with {number_of_restaurants} restaurants.')\n"
   ]
  },
  {
   "cell_type": "markdown",
   "id": "55a16d55-f20c-4931-9fb1-c29784c4e952",
   "metadata": {},
   "source": [
    "# Calculate the average rating for restaurants in each city"
   ]
  },
  {
   "cell_type": "code",
   "execution_count": 270,
   "id": "b9637765-4a82-42c2-8f96-964169a9822b",
   "metadata": {},
   "outputs": [
    {
     "data": {
      "text/plain": [
       "City\n",
       "Abu Dhabi          4.300000\n",
       "Agra               3.965000\n",
       "Ahmedabad          4.161905\n",
       "Albany             3.555000\n",
       "Allahabad          3.395000\n",
       "                     ...   \n",
       "Weirton            3.900000\n",
       "Wellington City    4.250000\n",
       "Winchester Bay     3.200000\n",
       "Yorkton            3.300000\n",
       "��stanbul          4.292857\n",
       "Name: Aggregate rating, Length: 141, dtype: float64"
      ]
     },
     "execution_count": 270,
     "metadata": {},
     "output_type": "execute_result"
    }
   ],
   "source": [
    "city_wise_avg_rating_restaurant=df.groupby('City')['Aggregate rating'].mean()\n",
    "city_wise_avg_rating_restaurant"
   ]
  },
  {
   "cell_type": "code",
   "execution_count": 275,
   "id": "9eff9537-959e-4912-b442-3a9d85d90e49",
   "metadata": {},
   "outputs": [
    {
     "data": {
      "text/plain": [
       "City\n",
       "Ankara       4.305000\n",
       "Abu Dhabi    4.300000\n",
       "Auckland     4.275000\n",
       "Athens       4.200000\n",
       "Ahmedabad    4.161905\n",
       "Agra         3.965000\n",
       "Amritsar     3.685714\n",
       "Albany       3.555000\n",
       "Armidale     3.500000\n",
       "Allahabad    3.395000\n",
       "Name: Aggregate rating, dtype: float64"
      ]
     },
     "execution_count": 275,
     "metadata": {},
     "output_type": "execute_result"
    }
   ],
   "source": [
    "Top_10_highest_avg_rating=city_wise_avg_rating_restaurant.head(10).sort_values(ascending=False)\n",
    "Top_10_highest_avg_rating"
   ]
  },
  {
   "cell_type": "code",
   "execution_count": 285,
   "id": "86ad9a1e-aad4-47f5-8b7f-bf9240cf37af",
   "metadata": {},
   "outputs": [
    {
     "data": {
      "image/png": "[encoded data removed]",
      "text/plain": [
       "<Figure size 1000x500 with 1 Axes>"
      ]
     },
     "metadata": {},
     "output_type": "display_data"
    }
   ],
   "source": [
    "plt.figure(figsize=(10,5))\n",
    "plt.bar(Top_10_highest_avg_rating.index,Top_10_highest_avg_rating,color='skyblue',edgecolor='black',label='Aggregate rating')\n",
    "plt.title('Average Rating of Restaurants in Each City')\n",
    "plt.legend()\n",
    "plt.xlabel('\\n City')\n",
    "plt.ylabel('\\n Average Rating')\n",
    "plt.xticks(rotation=90)\n",
    "plt.show()"
   ]
  },
  {
   "cell_type": "markdown",
   "id": "79aa5d4c-6683-4271-9ff5-220da92144e9",
   "metadata": {},
   "source": [
    "# Determine the city with the highest average rating."
   ]
  },
  {
   "cell_type": "code",
   "execution_count": 297,
   "id": "3f961774-c094-4cc9-9e7d-15fb26b9cbc0",
   "metadata": {},
   "outputs": [
    {
     "data": {
      "text/plain": [
       "City\n",
       "Abu Dhabi          4.300000\n",
       "Agra               3.965000\n",
       "Ahmedabad          4.161905\n",
       "Albany             3.555000\n",
       "Allahabad          3.395000\n",
       "                     ...   \n",
       "Weirton            3.900000\n",
       "Wellington City    4.250000\n",
       "Winchester Bay     3.200000\n",
       "Yorkton            3.300000\n",
       "��stanbul          4.292857\n",
       "Name: Aggregate rating, Length: 141, dtype: float64"
      ]
     },
     "execution_count": 297,
     "metadata": {},
     "output_type": "execute_result"
    }
   ],
   "source": [
    "highest_avg_rating_city=df.groupby('City')['Aggregate rating'].mean()\n",
    "highest_avg_rating_city"
   ]
  },
  {
   "cell_type": "code",
   "execution_count": 294,
   "id": "716f90d4-94d8-46b8-98fc-e5b16b542fcd",
   "metadata": {},
   "outputs": [
    {
     "name": "stdout",
     "output_type": "stream",
     "text": [
      "city with highest average rating is Inner City with 4.9 rating\n"
     ]
    }
   ],
   "source": [
    "city_highest_rating=highest_avg_rating_city.idxmax()\n",
    "name_of_the_city=highest_avg_rating_city.max()\n",
    "print(f'city with highest average rating is {city_highest_rating} with {name_of_the_city} rating')"
   ]
  },
  {
   "cell_type": "markdown",
   "id": "d4c2ff1f-3224-4ed8-8d79-4b2950ea3281",
   "metadata": {},
   "source": [
    "## Task 3"
   ]
  },
  {
   "cell_type": "markdown",
   "id": "c215107e-602d-4f1e-a558-57cae3706cab",
   "metadata": {},
   "source": [
    "### Task: Price Range Distribution"
   ]
  },
  {
   "cell_type": "markdown",
   "id": "dcafbda1-93e6-4ca5-ae8e-636369e26b8a",
   "metadata": {},
   "source": [
    "#  visualize the distribution of price ranges among the restaurants."
   ]
  },
  {
   "cell_type": "code",
   "execution_count": 85,
   "id": "32e2aae5-802b-469a-ac22-8915a82a76c4",
   "metadata": {},
   "outputs": [
    {
     "data": {
      "image/png": "[encoded data removed]",
      "text/plain": [
       "<Figure size 1000x600 with 1 Axes>"
      ]
     },
     "metadata": {},
     "output_type": "display_data"
    }
   ],
   "source": [
    "plt.figure(figsize=(10, 6))\n",
    "sns.barplot(data=df,y='Price range',color='skyblue',hue='Currency',ci=None)\n",
    "plt.xlabel('Price Range')\n",
    "plt.ylabel('Count')\n",
    "plt.legend(bbox_to_anchor=(1,1))\n",
    "plt.title('Distribution of Price Ranges among Restaurants (Bar Plot)')\n",
    "plt.show()"
   ]
  },
  {
   "cell_type": "markdown",
   "id": "05a65e57-8ef5-4412-8b6e-7269061fd18b",
   "metadata": {},
   "source": [
    "# Percentage of restaurants in each price range category"
   ]
  },
  {
   "cell_type": "code",
   "execution_count": 103,
   "id": "03544169-9a59-4150-80ce-389ba9a54267",
   "metadata": {},
   "outputs": [
    {
     "data": {
      "text/plain": [
       "Price range\n",
       "1    4444\n",
       "2    3113\n",
       "3    1408\n",
       "4     586\n",
       "Name: count, dtype: int64"
      ]
     },
     "execution_count": 103,
     "metadata": {},
     "output_type": "execute_result"
    }
   ],
   "source": [
    "Price_range_counts=df['Price range'].value_counts()\n",
    "Price_range_counts"
   ]
  },
  {
   "cell_type": "code",
   "execution_count": 129,
   "id": "75664f08-429f-4b24-bd5e-72b43e7ee8d4",
   "metadata": {},
   "outputs": [
    {
     "name": "stdout",
     "output_type": "stream",
     "text": [
      "Price range\n",
      "1    46.529159\n",
      "2    32.593446\n",
      "3    14.741912\n",
      "4     6.135483\n",
      "Name: count, dtype: float64\n"
     ]
    }
   ],
   "source": [
    "restaurant_count=len(df)\n",
    "restaurant_price_range_percent=(Price_range_counts/ restaurant_count) * 100\n",
    "print(restaurant_price_range_percent)"
   ]
  },
  {
   "cell_type": "code",
   "execution_count": 146,
   "id": "c9621225-4610-4ce0-8c03-1b7b683900c3",
   "metadata": {},
   "outputs": [
    {
     "data": {
      "image/png": "[encoded data removed]",
      "text/plain": [
       "<Figure size 640x480 with 1 Axes>"
      ]
     },
     "metadata": {},
     "output_type": "display_data"
    }
   ],
   "source": [
    "plt.pie(restaurant_price_range_percent,autopct='%2f%%',colors=['yellow','lightblue','cyan','lightgreen'],\n",
    "        explode=[0,0,0,0.1],labels=(1,2,3,4))\n",
    "plt.title('Restaurants in each price range category',fontsize=15)\n",
    "plt.legend(bbox_to_anchor=(1,1))\n",
    "plt.show()"
   ]
  },
  {
   "cell_type": "markdown",
   "id": "9b3620dc-9596-47a6-9116-08298827d99b",
   "metadata": {},
   "source": [
    "# Task 4"
   ]
  },
  {
   "cell_type": "markdown",
   "id": "18e05763-8273-4256-85b3-3cef12092bb9",
   "metadata": {},
   "source": [
    "## Task: Online Delivery"
   ]
  },
  {
   "cell_type": "markdown",
   "id": "22408b8f-344d-46df-9482-36fa9bd9e94d",
   "metadata": {},
   "source": [
    "# Percentage of restaurants that offer online delivery"
   ]
  },
  {
   "cell_type": "code",
   "execution_count": 178,
   "id": "884a49cf-8df8-4744-8349-12eb2c038bf0",
   "metadata": {},
   "outputs": [
    {
     "name": "stdout",
     "output_type": "stream",
     "text": [
      "Has Online delivery\n",
      "No     74.337766\n",
      "Yes    25.662234\n",
      "Name: count, dtype: float64\n"
     ]
    }
   ],
   "source": [
    "resturant_count=len(df)\n",
    "online_delivery_count=df['Has Online delivery'].value_counts()\n",
    "Percentage_of_restaurant=(online_delivery_count/resturant_count)*100\n",
    "print(Percentage_of_restaurant)"
   ]
  },
  {
   "cell_type": "code",
   "execution_count": 181,
   "id": "24c9f5cc-aed8-45b1-9546-5420b0599498",
   "metadata": {},
   "outputs": [
    {
     "data": {
      "image/png": "[encoded data removed]",
      "text/plain": [
       "<Figure size 700x500 with 1 Axes>"
      ]
     },
     "metadata": {},
     "output_type": "display_data"
    }
   ],
   "source": [
    "plt.figure(figsize=(7,5))\n",
    "plt.bar(Percentage_of_restaurant.index,Percentage_of_restaurant,color=['yellow','red'],label=['No','Yes'],edgecolor='black')\n",
    "plt.legend()\n",
    "plt.title('Percentage of Restaurants Offering Online Delivery')\n",
    "plt.xlabel('Availablity of online delivery')\n",
    "plt.ylabel(' Percentage of resturant')\n",
    "plt.show()"
   ]
  },
  {
   "cell_type": "markdown",
   "id": "83ae6243-ee25-4fa2-afdc-e5f91e3eb118",
   "metadata": {},
   "source": [
    "# Compare  average ratings of restaurants with and without online delivery."
   ]
  },
  {
   "cell_type": "code",
   "execution_count": 186,
   "id": "c4c038fb-5bc5-49b5-a37e-d107b7552f17",
   "metadata": {},
   "outputs": [
    {
     "data": {
      "text/plain": [
       "Has Online delivery\n",
       "No     2.465296\n",
       "Yes    3.248837\n",
       "Name: Aggregate rating, dtype: float64"
      ]
     },
     "execution_count": 186,
     "metadata": {},
     "output_type": "execute_result"
    }
   ],
   "source": [
    "comparison=df.groupby('Has Online delivery')['Aggregate rating'].mean()\n",
    "comparison"
   ]
  },
  {
   "cell_type": "code",
   "execution_count": 212,
   "id": "003cb700-4f20-4380-af63-bea16f2c0cbc",
   "metadata": {},
   "outputs": [
    {
     "data": {
      "image/png": "[encoded data removed]",
      "text/plain": [
       "<Figure size 700x500 with 1 Axes>"
      ]
     },
     "metadata": {},
     "output_type": "display_data"
    }
   ],
   "source": [
    "plt.figure(figsize=(7,5))\n",
    "plt.bar(comparison.index,comparison,color=['blue', 'green'],edgecolor='black',label=['No','Yes'])\n",
    "plt.title('Comparison of average ratings of restaurants with and without online delivery')\n",
    "plt.xlabel('Availability of Online order')\n",
    "plt.ylabel('Average ratings of restaurants')\n",
    "plt.legend(bbox_to_anchor=(1,1))\n",
    "plt.show()"
   ]
  },
  {
   "cell_type": "code",
   "execution_count": null,
   "id": "c220797f-c677-4b5b-94bf-db8ce9081d9a",
   "metadata": {},
   "outputs": [],
   "source": []
  }
 ],
 "metadata": {
  "kernelspec": {
   "display_name": "Python 3 (ipykernel)",
   "language": "python",
   "name": "python3"
  },
  "language_info": {
   "codemirror_mode": {
    "name": "ipython",
    "version": 3
   },
   "file_extension": ".py",
   "mimetype": "text/x-python",
   "name": "python",
   "nbconvert_exporter": "python",
   "pygments_lexer": "ipython3",
   "version": "3.11.5"
  }
 },
 "nbformat": 4,
 "nbformat_minor": 5
}
